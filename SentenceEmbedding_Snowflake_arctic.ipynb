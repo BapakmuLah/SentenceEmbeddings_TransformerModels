{
  "nbformat": 4,
  "nbformat_minor": 0,
  "metadata": {
    "colab": {
      "provenance": []
    },
    "kernelspec": {
      "name": "python3",
      "display_name": "Python 3"
    },
    "language_info": {
      "name": "python"
    }
  },
  "cells": [
    {
      "cell_type": "code",
      "execution_count": 1,
      "metadata": {
        "id": "4wxgc1TCb3-J"
      },
      "outputs": [],
      "source": [
        "import sentence_transformers"
      ]
    },
    {
      "cell_type": "markdown",
      "source": [
        "Link Transformers Model :  \n",
        "https://huggingface.co/Snowflake/snowflake-arctic-embed-m"
      ],
      "metadata": {
        "id": "pSn-CkGc1ZTG"
      }
    },
    {
      "cell_type": "code",
      "source": [
        "# MODEL INITIALIZATION\n",
        "\n",
        "model = sentence_transformers.SentenceTransformer(model_name_or_path='Snowflake/snowflake-arctic-embed-m')"
      ],
      "metadata": {
        "colab": {
          "base_uri": "https://localhost:8080/"
        },
        "id": "aDS2eBJ0iUrh",
        "outputId": "962de106-4f83-4014-f287-4e424c6a5ad5"
      },
      "execution_count": 2,
      "outputs": [
        {
          "output_type": "stream",
          "name": "stderr",
          "text": [
            "/usr/local/lib/python3.10/dist-packages/huggingface_hub/utils/_auth.py:94: UserWarning: \n",
            "The secret `HF_TOKEN` does not exist in your Colab secrets.\n",
            "To authenticate with the Hugging Face Hub, create a token in your settings tab (https://huggingface.co/settings/tokens), set it as secret in your Google Colab and restart your session.\n",
            "You will be able to reuse this secret in all of your notebooks.\n",
            "Please note that authentication is recommended but still optional to access public models or datasets.\n",
            "  warnings.warn(\n"
          ]
        }
      ]
    },
    {
      "cell_type": "code",
      "source": [
        "model , type(model) , len(model)"
      ],
      "metadata": {
        "colab": {
          "base_uri": "https://localhost:8080/"
        },
        "id": "8WZe7yEojaK3",
        "outputId": "e803fcf2-6495-4f90-906f-e08f08fa6215"
      },
      "execution_count": 3,
      "outputs": [
        {
          "output_type": "execute_result",
          "data": {
            "text/plain": [
              "(SentenceTransformer(\n",
              "   (0): Transformer({'max_seq_length': 512, 'do_lower_case': False}) with Transformer model: BertModel \n",
              "   (1): Pooling({'word_embedding_dimension': 768, 'pooling_mode_cls_token': True, 'pooling_mode_mean_tokens': False, 'pooling_mode_max_tokens': False, 'pooling_mode_mean_sqrt_len_tokens': False, 'pooling_mode_weightedmean_tokens': False, 'pooling_mode_lasttoken': False, 'include_prompt': True})\n",
              "   (2): Normalize()\n",
              " ),\n",
              " sentence_transformers.SentenceTransformer.SentenceTransformer,\n",
              " 3)"
            ]
          },
          "metadata": {},
          "execution_count": 3
        }
      ]
    },
    {
      "cell_type": "markdown",
      "source": [
        "## compare words one by one"
      ],
      "metadata": {
        "id": "LqPBVHNdq-W2"
      }
    },
    {
      "cell_type": "code",
      "source": [
        "# ADD SENTENCES BAHASA INDONESIA\n",
        "sentences1 = 'Dia merasa sangat senang ketika mendengar kabar baik itu'\n",
        "sentences2 = 'Kabar baik tersebut membuatnya merasa sangat bahagia dan lega.'"
      ],
      "metadata": {
        "id": "Svpw2fLWkoaS"
      },
      "execution_count": 4,
      "outputs": []
    },
    {
      "cell_type": "code",
      "source": [
        "# ADD SENTENCES ENGLISH\n",
        "\n",
        "sentences3 = 'She felt very happy when she heard the good news.'\n",
        "sentences4 = 'The good news made her feel incredibly joyful and relieved.'"
      ],
      "metadata": {
        "id": "vjhz66zh2CJ2"
      },
      "execution_count": 5,
      "outputs": []
    },
    {
      "cell_type": "code",
      "source": [
        "embeddings1 = model.encode(sentences1, convert_to_tensor=True)\n",
        "embeddings2 = model.encode(sentences2, convert_to_tensor=True)\n",
        "\n",
        "embeddings3 = model.encode(sentences3, convert_to_tensor=True)\n",
        "embeddings4 = model.encode(sentences4, convert_to_tensor=True)\n",
        "\n",
        "embeddings1.shape , embeddings2.shape"
      ],
      "metadata": {
        "colab": {
          "base_uri": "https://localhost:8080/"
        },
        "id": "g3Zx729zkvzL",
        "outputId": "947f784c-e42f-4293-f3a0-5d03fccc22ff"
      },
      "execution_count": 6,
      "outputs": [
        {
          "output_type": "execute_result",
          "data": {
            "text/plain": [
              "(torch.Size([768]), torch.Size([768]))"
            ]
          },
          "metadata": {},
          "execution_count": 6
        }
      ]
    },
    {
      "cell_type": "code",
      "source": [
        "# COMPARE 2 SENTENCES\n",
        "\n",
        "similarity_indo = model.similarity(embeddings1, embeddings2)\n",
        "similarity_eng = model.similarity(embeddings3, embeddings4)\n",
        "\n",
        "print(f'Similarity between the sentences indonesia: {similarity_indo}')\n",
        "print(f'Similarity between the sentences english: {similarity_eng}')\n",
        "\n",
        "# COMPARE 2 SENTENCES USING COSINE SIMILARITY\n",
        "from sklearn.metrics.pairwise import cosine_similarity\n",
        "\n",
        "# RESHAPE TO 2D VECTOR\n",
        "embeddings1 = embeddings1.reshape(1, 768)\n",
        "embeddings2 = embeddings2.reshape(1, -1)\n",
        "\n",
        "embeddings3 = embeddings3.reshape(1, -1)\n",
        "embeddings4 = embeddings4.reshape(1, -1)\n",
        "\n",
        "cosine_similar = cosine_similarity(embeddings1, embeddings2) # COSINE SIMILARITY EXPECTS 2D ARRAY\n",
        "print(f'Cosine Similarity : {cosine_similar}')\n",
        "\n",
        "cosine_similar2 = cosine_similarity(embeddings3, embeddings4)\n",
        "print(f'Cosine Similarity : {cosine_similar2}')\n"
      ],
      "metadata": {
        "colab": {
          "base_uri": "https://localhost:8080/"
        },
        "id": "KMtXyF01mS1Z",
        "outputId": "425b41c1-eeea-4a37-a1e3-c9a202cde1f3"
      },
      "execution_count": 7,
      "outputs": [
        {
          "output_type": "stream",
          "name": "stdout",
          "text": [
            "Similarity between the sentences indonesia: tensor([[0.8449]])\n",
            "Similarity between the sentences english: tensor([[0.9533]])\n",
            "Cosine Similarity : [[0.8449221]]\n",
            "Cosine Similarity : [[0.9532826]]\n"
          ]
        }
      ]
    },
    {
      "cell_type": "markdown",
      "source": [],
      "metadata": {
        "id": "4EF-Azqu9Mdx"
      }
    },
    {
      "cell_type": "markdown",
      "source": [
        "## compare sentences at once"
      ],
      "metadata": {
        "id": "lKybEer5w4Ej"
      }
    },
    {
      "cell_type": "code",
      "source": [
        "\n",
        "sentences_indo = ['Dia merasa sangat senang ketika mendengar kabar baik itu.',\n",
        "'Kabar baik tersebut membuatnya merasa sangat bahagia dan lega.',\n",
        "'Setiap kali mendengar musik favoritnya, dia merasa penuh semangat.',\n",
        "'Musik yang ia dengar itu membangkitkan perasaan bahagia yang mendalam.',\n",
        "'Dia merasa nyaman berada di rumah setelah perjalanan panjang yang melelahkan.']\n",
        "\n",
        "sentences_eng = ['She felt very happy when she heard the good news.',\n",
        "'The good news made her feel incredibly joyful and relieved.',\n",
        "'Every time she listens to her favorite music, she feels energized.',\n",
        "'The music she hears stirs up a deep sense of happiness.',\n",
        "'She felt comfortable being at home after the long and tiring trip.']"
      ],
      "metadata": {
        "id": "MRh7Am9ioKHW"
      },
      "execution_count": 8,
      "outputs": []
    },
    {
      "cell_type": "code",
      "source": [
        "# ENCODE THEM\n",
        "\n",
        "embeddings_indo = model.encode(sentences_indo)\n",
        "embeddings_eng = model.encode(sentences_eng)\n",
        "\n",
        "embeddings_indo , embeddings_indo.shape  , embeddings_eng , embeddings_eng.shape"
      ],
      "metadata": {
        "colab": {
          "base_uri": "https://localhost:8080/"
        },
        "id": "F-TrCmUXxteb",
        "outputId": "fce8db50-3ee5-4fd3-907a-4898d36bc2f0"
      },
      "execution_count": 9,
      "outputs": [
        {
          "output_type": "execute_result",
          "data": {
            "text/plain": [
              "(array([[-0.05329728,  0.05110858,  0.01709981, ..., -0.00337702,\n",
              "          0.03150548,  0.04956917],\n",
              "        [-0.03018753,  0.026941  ,  0.02517184, ..., -0.00911751,\n",
              "          0.01815518,  0.04994358],\n",
              "        [-0.05384601,  0.05427687, -0.007897  , ...,  0.01951372,\n",
              "          0.0211255 ,  0.01155812],\n",
              "        [-0.03230422,  0.07799845,  0.01277795, ...,  0.01963823,\n",
              "          0.03129219,  0.01444418],\n",
              "        [-0.06244443,  0.06240311,  0.00924083, ..., -0.01079868,\n",
              "          0.02257819,  0.02732821]], dtype=float32),\n",
              " (5, 768),\n",
              " array([[-0.04619446,  0.01815579,  0.01900399, ...,  0.00713332,\n",
              "          0.05034873,  0.01453644],\n",
              "        [-0.0608112 ,  0.02716973,  0.02785231, ..., -0.00279166,\n",
              "          0.062392  ,  0.0105258 ],\n",
              "        [-0.02045596,  0.0112372 , -0.01580059, ...,  0.02191771,\n",
              "          0.06453312, -0.01301301],\n",
              "        [-0.06091132,  0.05548193,  0.00368568, ...,  0.02315031,\n",
              "          0.05936863, -0.00109541],\n",
              "        [-0.03718376,  0.00464372,  0.0340375 , ..., -0.00060756,\n",
              "          0.05167394,  0.01750894]], dtype=float32),\n",
              " (5, 768))"
            ]
          },
          "metadata": {},
          "execution_count": 9
        }
      ]
    },
    {
      "cell_type": "code",
      "source": [
        "# COMPARE THEM\n",
        "\n",
        "similarity_indo = model.similarity(embeddings_indo, embeddings_indo)\n",
        "similarity_eng = model.similarity(embeddings_eng, embeddings_eng)\n",
        "\n",
        "print(f'Similarity between the sentences:\\n{similarity_indo}')\n",
        "print(f'Similarity between the sentences:\\n{similarity_eng}')"
      ],
      "metadata": {
        "colab": {
          "base_uri": "https://localhost:8080/"
        },
        "id": "50flim3qzQyo",
        "outputId": "ad85afba-2d49-494c-9fe8-bcd53b1b7015"
      },
      "execution_count": 10,
      "outputs": [
        {
          "output_type": "stream",
          "name": "stdout",
          "text": [
            "Similarity between the sentences:\n",
            "tensor([[1.0000, 0.8838, 0.8645, 0.8019, 0.8658],\n",
            "        [0.8838, 1.0000, 0.8526, 0.8378, 0.8875],\n",
            "        [0.8645, 0.8526, 1.0000, 0.8893, 0.8592],\n",
            "        [0.8019, 0.8378, 0.8893, 1.0000, 0.8203],\n",
            "        [0.8658, 0.8875, 0.8592, 0.8203, 1.0000]])\n",
            "Similarity between the sentences:\n",
            "tensor([[1.0000, 0.9533, 0.8495, 0.8931, 0.8793],\n",
            "        [0.9533, 1.0000, 0.8695, 0.8963, 0.8888],\n",
            "        [0.8495, 0.8695, 1.0000, 0.9078, 0.8384],\n",
            "        [0.8931, 0.8963, 0.9078, 1.0000, 0.8437],\n",
            "        [0.8793, 0.8888, 0.8384, 0.8437, 1.0000]])\n"
          ]
        }
      ]
    },
    {
      "cell_type": "markdown",
      "source": [
        "## Conclusion :"
      ],
      "metadata": {
        "id": "355Yr9BP0RFi"
      }
    },
    {
      "cell_type": "markdown",
      "source": [
        "for indonesia Sentences :<br>\n",
        "Sentence 1 and sentence 2 have a fairly high similarity value, which is 0.8838, indicating that the two sentences are very similar to each other. <br>\n",
        "Sentence 1 and sentence 3 also have a fairly high similarity (0.8645), although slightly lower than sentence 1 and sentence 2. <br>\n",
        "Sentence 3 and sentence 4 have a fairly high similarity value (0.8893), indicating that they are very similar. <br>\n",
        "Sentence 4 and sentence 5 have a fairly high similarity (0.8203), although slightly lower than the other pairs."
      ],
      "metadata": {
        "id": "cBAjWCKp1Gau"
      }
    },
    {
      "cell_type": "markdown",
      "source": [
        "for english sentences : <br>\n",
        "Sentence 1 and sentence 2 have a very high similarity (0.9533), indicating that the two sentences are very similar to each other. <br>\n",
        "Sentence 1 and sentence 4 have a fairly high similarity (0.8931), indicating that these two sentences are also very similar in the context of happiness and positive feelings.  <br>\n",
        "Sentence 1 and sentence 3 are slightly lower with a similarity value of 0.8495, but still show a strong relationship related to the positive feelings created by music. <br>\n",
        "Sentence 2 and sentence 4 have a relatively high similarity (0.8963), indicating that they are very similar in the context of happiness and comfort."
      ],
      "metadata": {
        "id": "g5jYtZwb8bFx"
      }
    }
  ]
}